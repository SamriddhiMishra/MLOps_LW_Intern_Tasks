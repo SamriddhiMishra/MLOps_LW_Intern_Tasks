{
 "cells": [
  {
   "cell_type": "markdown",
   "metadata": {},
   "source": [
    "## 🔅 Task 4.1\n",
    "## 📌 Create image by yourself Using Python Code "
   ]
  },
  {
   "cell_type": "code",
   "execution_count": 1,
   "metadata": {},
   "outputs": [],
   "source": [
    "import cv2\n",
    "import numpy"
   ]
  },
  {
   "cell_type": "code",
   "execution_count": 2,
   "metadata": {},
   "outputs": [],
   "source": [
    "image = numpy.ones((600, 800, 3))"
   ]
  },
  {
   "cell_type": "code",
   "execution_count": 3,
   "metadata": {},
   "outputs": [
    {
     "data": {
      "text/plain": [
       "(600, 800, 3)"
      ]
     },
     "execution_count": 3,
     "metadata": {},
     "output_type": "execute_result"
    }
   ],
   "source": [
    "image.shape"
   ]
  },
  {
   "cell_type": "code",
   "execution_count": 4,
   "metadata": {},
   "outputs": [],
   "source": [
    "for i in range(0,500,10):\n",
    "    image = cv2.circle(image, (400, 300), i, (0, 0, 0), 3)"
   ]
  },
  {
   "cell_type": "code",
   "execution_count": 5,
   "metadata": {},
   "outputs": [],
   "source": [
    "cv2.imshow(\"Image\", image)\n",
    "cv2.waitKey() \n",
    "cv2.destroyAllWindows()"
   ]
  },
  {
   "cell_type": "markdown",
   "metadata": {},
   "source": [
    "## 🔅 Task 4.2\n",
    "## 📌 Take 2 image crop some part of both image and swap it. "
   ]
  },
  {
   "cell_type": "code",
   "execution_count": 6,
   "metadata": {},
   "outputs": [],
   "source": [
    "img1 = cv2.imread('a.jpg')\n",
    "img2 = cv2.imread('b.jpg')"
   ]
  },
  {
   "cell_type": "code",
   "execution_count": 7,
   "metadata": {},
   "outputs": [],
   "source": [
    "cv2.imshow(\"Image1\", img1)\n",
    "cv2.waitKey() \n",
    "\n",
    "cv2.imshow(\"Image2\", img2)\n",
    "cv2.waitKey() \n",
    "\n",
    "cv2.destroyAllWindows()"
   ]
  },
  {
   "cell_type": "code",
   "execution_count": 8,
   "metadata": {},
   "outputs": [
    {
     "name": "stdout",
     "output_type": "stream",
     "text": [
      "(108, 126, 3)\n",
      "(103, 106, 3)\n"
     ]
    }
   ],
   "source": [
    "frame1 = img1[45:153, 50:176]\n",
    "frame2 = img2[50:153, 60:166]\n",
    "\n",
    "print(frame1.shape)\n",
    "print(frame2.shape)"
   ]
  },
  {
   "cell_type": "code",
   "execution_count": 9,
   "metadata": {},
   "outputs": [],
   "source": [
    "cv2.imshow(\"Frame1\", frame1)\n",
    "cv2.waitKey() \n",
    "\n",
    "cv2.imshow(\"Frame2\", frame2)\n",
    "cv2.waitKey() \n",
    "\n",
    "cv2.destroyAllWindows()"
   ]
  },
  {
   "cell_type": "code",
   "execution_count": 10,
   "metadata": {},
   "outputs": [
    {
     "name": "stdout",
     "output_type": "stream",
     "text": [
      "(103, 106, 3)\n",
      "(108, 126, 3)\n"
     ]
    }
   ],
   "source": [
    "frame1 = cv2.resize(frame1, (106, 103))\n",
    "frame2 = cv2.resize(frame2, (126, 108))\n",
    "\n",
    "print(frame1.shape)\n",
    "print(frame2.shape)"
   ]
  },
  {
   "cell_type": "code",
   "execution_count": 11,
   "metadata": {},
   "outputs": [],
   "source": [
    "img1[45:153, 50:176] = frame2.copy()\n",
    "\n",
    "img2[50:153, 60:166] = frame1.copy()\n",
    "\n",
    "cv2.imshow(\"Image1\", img1)\n",
    "cv2.waitKey() \n",
    "\n",
    "cv2.imshow(\"Image2\", img2)\n",
    "cv2.waitKey() \n",
    "\n",
    "cv2.destroyAllWindows()"
   ]
  },
  {
   "cell_type": "markdown",
   "metadata": {},
   "source": [
    "## 🔅 Task 4.3\n",
    "## 📌 Take 2 image and combine it to form single image. For example collage "
   ]
  },
  {
   "cell_type": "code",
   "execution_count": null,
   "metadata": {},
   "outputs": [],
   "source": [
    "image = numpy.hstack((img2, img1))\n",
    "cv2.imshow(\"Image\", image)\n",
    "cv2.waitKey() \n",
    "cv2.destroyAllWindows()"
   ]
  }
 ],
 "metadata": {
  "kernelspec": {
   "display_name": "Python 3",
   "language": "python",
   "name": "python3"
  },
  "language_info": {
   "codemirror_mode": {
    "name": "ipython",
    "version": 3
   },
   "file_extension": ".py",
   "mimetype": "text/x-python",
   "name": "python",
   "nbconvert_exporter": "python",
   "pygments_lexer": "ipython3",
   "version": "3.8.3"
  }
 },
 "nbformat": 4,
 "nbformat_minor": 4
}
