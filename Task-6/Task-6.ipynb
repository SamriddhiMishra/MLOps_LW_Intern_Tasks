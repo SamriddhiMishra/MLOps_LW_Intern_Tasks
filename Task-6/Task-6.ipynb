{
 "cells": [
  {
   "cell_type": "markdown",
   "metadata": {},
   "source": [
    "\n",
    "# Step 1 - Create Training Dataset"
   ]
  },
  {
   "cell_type": "code",
   "execution_count": null,
   "metadata": {
    "scrolled": false
   },
   "outputs": [],
   "source": [
    "# Load libraries\n",
    "import cv2\n",
    "import numpy as np\n",
    "import os\n",
    "\n",
    "# Load HAAR face classifier\n",
    "face_classifier = cv2.CascadeClassifier('haarcascade_frontalface_default.xml')\n",
    "\n",
    "def face_extractor(img):\n",
    "    \n",
    "    # Function detects faces and returns the cropped face\n",
    "    # If no face detected, it returns the input image\n",
    "    \n",
    "    gray = cv2.cvtColor(img,cv2.COLOR_BGR2GRAY)\n",
    "    faces = face_classifier.detectMultiScale(gray, 1.3, 5)\n",
    "    \n",
    "    if len(faces) == 0:\n",
    "        return None\n",
    "    \n",
    "    # Crop all faces found\n",
    "    for (x,y,w,h) in faces:\n",
    "        cropped_face = img[y:y+h, x:x+w]\n",
    "\n",
    "    return cropped_face\n",
    "\n",
    "\n",
    "def user_capture(user):\n",
    "\n",
    "    # Initialize Webcam\n",
    "    cap = cv2.VideoCapture(0)\n",
    "    count = 0\n",
    "    \n",
    "    #Create faces folder to put dataset\n",
    "    os.system('mkdir .\\\\faces')\n",
    "    #Create folder with user's name\n",
    "    os.system('mkdir .\\\\faces\\{}'.format(user))\n",
    "\n",
    "    # Collect 100 samples of your face from webcam input\n",
    "    while True:\n",
    "\n",
    "        ret, frame = cap.read()\n",
    "        if face_extractor(frame) is not None:\n",
    "            count += 1\n",
    "            face = cv2.resize(face_extractor(frame), (200, 200)) #resize to (200, 200)\n",
    "            face = cv2.cvtColor(face, cv2.COLOR_BGR2GRAY)\n",
    "\n",
    "            # Save file in specified directory with unique name\n",
    "            file_name_path = './faces/{}/'.format(user) + str(count) + '.jpg'\n",
    "            cv2.imwrite(file_name_path, face)\n",
    "\n",
    "            # Put count on images and display live count\n",
    "            cv2.putText(face, str(count), (50, 50), cv2.FONT_HERSHEY_COMPLEX, 1, (0,255,0), 2)\n",
    "            cv2.imshow('Face Cropper', face)\n",
    "\n",
    "        else:\n",
    "            print(\"Face not found\")\n",
    "            pass\n",
    "\n",
    "        if cv2.waitKey(1) == 13 or count == 100: #13 is the Enter Key\n",
    "            break\n",
    "    cap.release()\n",
    "    cv2.destroyAllWindows()\n",
    "\n",
    "\n",
    "users = []\n",
    "models = []\n",
    "no_users = int(input(\"Enter the number of users:- \"))\n",
    "for i in range(no_users):\n",
    "    user =  input(\"Enter user's name:- \")\n",
    "    users.append(user)\n",
    "    user_capture(user)"
   ]
  },
  {
   "cell_type": "code",
   "execution_count": 30,
   "metadata": {},
   "outputs": [
    {
     "name": "stdout",
     "output_type": "stream",
     "text": [
      "----------------\n",
      "Images for training collected successfully!!\n",
      "----------------\n"
     ]
    }
   ],
   "source": [
    "print(\"----------------\")\n",
    "print(\"Images for training collected successfully!!\")\n",
    "print(\"----------------\")"
   ]
  },
  {
   "cell_type": "markdown",
   "metadata": {},
   "source": [
    "# Step 2 - Training the Model"
   ]
  },
  {
   "cell_type": "code",
   "execution_count": 3,
   "metadata": {},
   "outputs": [],
   "source": [
    "# pip install opencv-contrib-python\n",
    "def train_model(users):\n",
    "    \n",
    "    import cv2\n",
    "    import numpy as np\n",
    "    from os import listdir\n",
    "    from os.path import isfile, join\n",
    "    \n",
    "    for c in range(len(users)):\n",
    "        \n",
    "        # Get the training data we previously made\n",
    "        data_path = './faces/{}/'.format(users[c])\n",
    "        onlyfiles = [f for f in listdir(data_path) if isfile(join(data_path, f))]\n",
    "\n",
    "        # Create arrays for training data and labels\n",
    "        Training_Data, Labels = [], []\n",
    "\n",
    "        # Open training images in our datapath\n",
    "        # Create a numpy array for training data\n",
    "        for i, files in enumerate(onlyfiles):\n",
    "            image_path = data_path + onlyfiles[i]\n",
    "            images = cv2.imread(image_path, cv2.IMREAD_GRAYSCALE)\n",
    "            Training_Data.append(np.asarray(images, dtype=np.uint8))\n",
    "            Labels.append(i)\n",
    "\n",
    "        # Create a numpy array for both training data and labels\n",
    "        Labels = np.asarray(Labels, dtype=np.int32)\n",
    "\n",
    "        # Initialize facial recognizer\n",
    "        # model = cv2.face.createLBPHFaceRecognizer()\n",
    "        # NOTE: For OpenCV 3.0 use cv2.face.createLBPHFaceRecognizer()\n",
    "        # pip install opencv-contrib-python\n",
    "        # model = cv2.createLBPHFaceRecognizer()\n",
    "\n",
    "        models.append(cv2.face_LBPHFaceRecognizer.create())\n",
    "        # Let's train our model \n",
    "        models[c].train(np.asarray(Training_Data), np.asarray(Labels))\n",
    "        print(\"Model trained sucessefully for:- \"+ users[c])"
   ]
  },
  {
   "cell_type": "code",
   "execution_count": 4,
   "metadata": {},
   "outputs": [
    {
     "data": {
      "text/plain": [
       "['sam', 'ojas', 'tina']"
      ]
     },
     "execution_count": 4,
     "metadata": {},
     "output_type": "execute_result"
    }
   ],
   "source": [
    "users"
   ]
  },
  {
   "cell_type": "code",
   "execution_count": 5,
   "metadata": {},
   "outputs": [
    {
     "name": "stdout",
     "output_type": "stream",
     "text": [
      "Model trained sucessefully for:- sam\n",
      "Model trained sucessefully for:- ojas\n",
      "Model trained sucessefully for:- tina\n"
     ]
    }
   ],
   "source": [
    "train_model(users)"
   ]
  },
  {
   "cell_type": "code",
   "execution_count": 6,
   "metadata": {},
   "outputs": [
    {
     "data": {
      "text/plain": [
       "[<face_LBPHFaceRecognizer 00000208FF5B27B0>,\n",
       " <face_LBPHFaceRecognizer 00000208FF5B2810>,\n",
       " <face_LBPHFaceRecognizer 00000208FF5B27F0>]"
      ]
     },
     "execution_count": 6,
     "metadata": {},
     "output_type": "execute_result"
    }
   ],
   "source": [
    "models"
   ]
  },
  {
   "cell_type": "markdown",
   "metadata": {},
   "source": [
    "# Function for Sending Mail"
   ]
  },
  {
   "cell_type": "code",
   "execution_count": 7,
   "metadata": {},
   "outputs": [],
   "source": [
    "def mail(pred_user):\n",
    "    import smtplib\n",
    "    from email.mime.multipart import MIMEMultipart\n",
    "    from email.mime.text import MIMEText\n",
    "    from email.mime.base import MIMEBase\n",
    "    from email import encoders\n",
    "    mail_content = '''Hello,\\n\n",
    "    This is Your system. \\n\n",
    "    This is face of {} !! \\n\n",
    "    Thank You.\n",
    "    '''.format(pred_user)\n",
    "    \n",
    "    #The mail addresses and password\n",
    "    sender_address = 'aa0413371'\n",
    "    sender_pass = '*************'\n",
    "    receiver_address = 'samriddhi2958@gmail.com'\n",
    "    #Setup the MIME\n",
    "    message = MIMEMultipart()\n",
    "    message['From'] = sender_address\n",
    "    message['To'] = receiver_address\n",
    "    message['Subject'] = 'A test mail sent by Python. It has an attachment.'\n",
    "    #The subject line\n",
    "    #The body and the attachments for the mail\n",
    "    #message.attach(MIMEText(mail_content, 'plain'))\n",
    "    message.attach(MIMEText(mail_content, 'html'))\n",
    "    attach_file_name = 'sam.jpg'\n",
    "    attach_file = open(attach_file_name, 'rb') # Open the file as binary mode\n",
    "    payload = MIMEBase('application', 'octate-stream')\n",
    "    payload.set_payload((attach_file).read())\n",
    "    encoders.encode_base64(payload) #encode the attachment\n",
    "    #add payload header with filename\n",
    "    payload.add_header(\"Content-Disposition\", f\"attachment; filename= {attach_file_name}\",)\n",
    "    message.attach(payload)\n",
    "    \n",
    "    #Create SMTP session for sending the mail\n",
    "    session = smtplib.SMTP('smtp.gmail.com', 587) #use gmail with port\n",
    "    session.starttls() #enable security\n",
    "    session.login(sender_address, sender_pass) #login with mail_id and password\n",
    "    text = message.as_string()\n",
    "    session.sendmail(sender_address, receiver_address, text)\n",
    "    session.quit()\n",
    "    print('Mail Sent!!')"
   ]
  },
  {
   "cell_type": "markdown",
   "metadata": {},
   "source": [
    "# Function for Sending Whatsapp Message"
   ]
  },
  {
   "cell_type": "code",
   "execution_count": 8,
   "metadata": {},
   "outputs": [],
   "source": [
    "# Setup twillio account and twilio sandbox\n",
    "# pip install twilio\n",
    "def whatsapp():\n",
    "    \n",
    "    import os\n",
    "    os.system('pip install twilio')\n",
    "    \n",
    "    import os\n",
    "    from twilio.rest import Client\n",
    "\n",
    "    account_sid = 'AC**********b4ac2'\n",
    "    auth_token = '63*******************c97'\n",
    "    client = Client(account_sid, auth_token)\n",
    "\n",
    "    from_whatsapp_number = 'whatsapp:+14*******'\n",
    "    to_whatsapp_number = 'whatsapp:*******'\n",
    "\n",
    "    message = client.messages.create(body='Somebody is here!!',\n",
    "                           media_url='https://cdn3.vectorstock.com/i/1000x1000/52/02/smiling-cartoon-hacker-holding-a-hacked-smartphone-vector-15735202.jpg',\n",
    "                           from_=from_whatsapp_number,\n",
    "                           to=to_whatsapp_number)\n",
    "\n",
    "    print(\"Whatsapp message sent!!\")\n",
    "    print(\"Sender's id:- \" , message.sid)"
   ]
  },
  {
   "cell_type": "markdown",
   "metadata": {},
   "source": [
    "# Launch EC2 instance, create EBS volume and attach to instance"
   ]
  },
  {
   "cell_type": "code",
   "execution_count": 9,
   "metadata": {},
   "outputs": [],
   "source": [
    "#aws configure \n",
    "# run in command prompt, to give secret and access key\n",
    "def aws_ec2_ebs():\n",
    "    import os\n",
    "\n",
    "    key_name = input(\"Enter Key Name:- \")\n",
    "    az = input(\"Enter AZ Name:- \")\n",
    "    subnet = input(\"Enter Subnet ID:- \")\n",
    "    os.system('aws ec2 run-instances --image-id ami-0aeeebd8d2ab47354 --instance-type t2.micro --key-name '+ key_name + ' --subnet-id '+ subnet + ' --tag-specifications \"ResourceType = instance , Tags = [{Key=\"Name\",Value=\"face_recog\"}]\"')\n",
    "    print(\"Launched EC2 instance..\")\n",
    "    os.system('aws ec2 create-volume --availability-zone ' + az +' --size 5')\n",
    "    print(\"Created EBS volume..\")\n",
    "    inst_id = input(\"Enter Instance Id:- \")\n",
    "    vol_id = input(\"Enter Volume Id:- \")\n",
    "    dev_name = input(\"Enter Device Name:- \")\n",
    "    os.system('aws ec2 attach-volume --instance-id '+inst_id+' --volume-id '+ vol_id+' --device '+ dev_name)\n",
    "    print(\"Attached EBS volume to EC2 instance!!\")\n",
    "    "
   ]
  },
  {
   "cell_type": "markdown",
   "metadata": {},
   "source": [
    "# Step 3 - Run Facial Recognition"
   ]
  },
  {
   "cell_type": "code",
   "execution_count": 25,
   "metadata": {
    "scrolled": false
   },
   "outputs": [],
   "source": [
    "import cv2\n",
    "import numpy as np\n",
    "import os\n",
    "import time\n",
    "\n",
    "face_classifier = cv2.CascadeClassifier('haarcascade_frontalface_default.xml')\n",
    "\n",
    "def face_detector(img, size=0.5):\n",
    "    \n",
    "    # Convert image to grayscale\n",
    "    gray = cv2.cvtColor(img,cv2.COLOR_BGR2GRAY)\n",
    "    faces = face_classifier.detectMultiScale(gray, 1.3, 5)\n",
    "    if len(faces) == 0:\n",
    "        return img, []\n",
    "    \n",
    "    \n",
    "    for (x,y,w,h) in faces:\n",
    "        cv2.rectangle(img,(x,y),(x+w,y+h),(0,255,255),2)\n",
    "        roi = img[y:y+h, x:x+w]\n",
    "        roi = cv2.resize(roi, (200, 200))\n",
    "    return img, roi\n",
    "\n",
    "\n",
    "def get_confidence_score(results):\n",
    "    if results[1] < 500:\n",
    "        confidence = int( 100 * (1 - (results[1])/400) )\n",
    "    return confidence\n",
    "\n",
    "\n",
    "def face_recog():\n",
    "    # Open Webcam\n",
    "    cap = cv2.VideoCapture(0)\n",
    "\n",
    "    while True:\n",
    "\n",
    "        ret, frame = cap.read()\n",
    "        image, face = face_detector(frame)\n",
    "\n",
    "        try:\n",
    "            face = cv2.cvtColor(face, cv2.COLOR_BGR2GRAY)\n",
    "\n",
    "            # Pass face to prediction model\n",
    "            # \"results\" comprises of a tuple containing the label and the confidence value\n",
    "            results = []\n",
    "            confidences = []\n",
    "            c = 0\n",
    "\n",
    "            for c in range(len(users)):\n",
    "                results.append(models[c].predict(face))\n",
    "\n",
    "            for c in range(len(users)):\n",
    "                confidences.append(get_confidence_score(results[c]))\n",
    "\n",
    "            pred_user  = None\n",
    "\n",
    "            largest = max(confidences)\n",
    "            conf_ind = confidences.index(largest)\n",
    "            confidence = confidences[conf_ind]\n",
    "            pred_user = users[conf_ind]\n",
    "\n",
    "            display_string = str(confidence) + '% Confident it is ' + pred_user\n",
    "            cv2.putText(image, display_string, (100, 120), cv2.FONT_HERSHEY_COMPLEX, 1, (255,120,150), 2)\n",
    "\n",
    "\n",
    "            if confidence >= 91:\n",
    "                cv2.putText(image, \"Hi!! \"+ pred_user, (250, 450), cv2.FONT_HERSHEY_COMPLEX, 1, (0,255,0), 2)\n",
    "                cv2.imshow('Face Recognition', image )\n",
    "                if pred_user == \"sam\":\n",
    "                    cv2.imwrite(\"{}.jpg\".format(pred_user), image)\n",
    "                    cv2.imshow('Face Recognition', image )\n",
    "                    cv2.waitKey(2)\n",
    "                    cv2.destroyAllWindows()\n",
    "                    mail(pred_user)\n",
    "                    whatsapp()\n",
    "                    break\n",
    "                elif pred_user == \"ojas\":\n",
    "                    cv2.imshow('Face Recognition', image )\n",
    "                    cv2.waitKey(2)\n",
    "                    cv2.destroyAllWindows()\n",
    "                    aws_ec2_ebs()\n",
    "                    break\n",
    "                else:\n",
    "                    cv2.imshow('Face Recognition', image )\n",
    "                    cv2.waitKey(2)\n",
    "                    cv2.destroyAllWindows()\n",
    "                    print(\"Hello {}!!!!!!!\".format(\"tina\"))\n",
    "                    break\n",
    "                break\n",
    "            else:   \n",
    "                #cv2.putText(image, \"I dont know, how r u\", (250, 450), cv2.FONT_HERSHEY_COMPLEX, 1, (0,0,255), 2)\n",
    "                cv2.imshow('Face Recognition', image )\n",
    "\n",
    "        except:\n",
    "            cv2.putText(image, \"No Face Found\", (220, 120) , cv2.FONT_HERSHEY_COMPLEX, 1, (0,0,255), 2)\n",
    "            cv2.putText(image, \"looking for face\", (250, 450), cv2.FONT_HERSHEY_COMPLEX, 1, (0,0,255), 2)\n",
    "            cv2.imshow('Face Recognition', image )\n",
    "            pass\n",
    "\n",
    "        if cv2.waitKey(10) == 13: #13 is the Enter Key\n",
    "            break\n",
    "\n",
    "    cap.release()\n",
    "    cv2.destroyAllWindows() \n",
    "    print()\n",
    "    print(\"----------------\")\n",
    "    print(\"All completed!!!\")\n",
    "    print(\"----------------\")"
   ]
  },
  {
   "cell_type": "code",
   "execution_count": 29,
   "metadata": {},
   "outputs": [
    {
     "name": "stdout",
     "output_type": "stream",
     "text": [
      "Enter Key Name:- arthos\n",
      "Enter AZ Name:- us-east-1a\n",
      "Enter Subnet ID:- subnet-0c5a276a\n",
      "Launched EC2 instance..\n",
      "Created EBS volume..\n",
      "Enter Instance Id:- i-09920fea663927c4f\n",
      "Enter Volume Id:- vol-0681777b03981f2a0\n",
      "Enter Device Name:- /dev/xvde\n",
      "Attached EBS volume to EC2 instance!!\n",
      "\n",
      "----------------\n",
      "All completed!!!\n",
      "----------------\n"
     ]
    }
   ],
   "source": [
    "face_recog()"
   ]
  },
  {
   "cell_type": "code",
   "execution_count": null,
   "metadata": {},
   "outputs": [],
   "source": []
  }
 ],
 "metadata": {
  "kernelspec": {
   "display_name": "Python 3",
   "language": "python",
   "name": "python3"
  },
  "language_info": {
   "codemirror_mode": {
    "name": "ipython",
    "version": 3
   },
   "file_extension": ".py",
   "mimetype": "text/x-python",
   "name": "python",
   "nbconvert_exporter": "python",
   "pygments_lexer": "ipython3",
   "version": "3.8.3"
  }
 },
 "nbformat": 4,
 "nbformat_minor": 1
}
